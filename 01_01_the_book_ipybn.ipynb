{
  "nbformat": 4,
  "nbformat_minor": 5,
  "metadata": {
    "kernelspec": {
      "display_name": "Python 3",
      "language": "python",
      "name": "python3"
    },
    "language_info": {
      "codemirror_mode": {
        "name": "ipython",
        "version": 3
      },
      "file_extension": ".py",
      "mimetype": "text/x-python",
      "name": "python",
      "nbconvert_exporter": "python",
      "pygments_lexer": "ipython3",
      "version": "3.9.7"
    },
    "colab": {
      "provenance": [],
      "include_colab_link": true
    }
  },
  "cells": [
    {
      "cell_type": "markdown",
      "metadata": {
        "id": "view-in-github",
        "colab_type": "text"
      },
      "source": [
        "<a href=\"https://colab.research.google.com/github/cegepgim1001/test/blob/main/01_01_the_book_ipybn.ipynb\" target=\"_parent\"><img src=\"https://colab.research.google.com/assets/colab-badge.svg\" alt=\"Open In Colab\"/></a>"
      ]
    },
    {
      "cell_type": "markdown",
      "metadata": {
        "id": "01ine_MwOpz3"
      },
      "source": [
        "# Chapter 1: Introduction to Modern Linear Algebra\n",
        "\n",
        "This book teaches modern linear algebra with a strong focus on computational applications rather than abstract theory and proofs. It emphasizes learning through code and practical applications in fields such as graphics, statistics, data science, AI, and numerical simulations."
      ],
      "id": "01ine_MwOpz3"
    },
    {
      "cell_type": "markdown",
      "metadata": {
        "id": "gyZo2mQjOpz7"
      },
      "source": [
        "## Why Modern Linear Algebra?\n",
        "\n",
        "The author highlights that traditional linear algebra, while beautiful, may not be practical for those aiming to use it as a tool for understanding data, statistics, deep learning, or image processing. The book aims to provide a geometric intuition for linear algebra and how to implement its concepts in Python code."
      ],
      "id": "gyZo2mQjOpz7"
    },
    {
      "cell_type": "markdown",
      "metadata": {
        "id": "zKisFZJ7Opz9"
      },
      "source": [
        "## Prerequisites\n",
        "\n",
        "* **Math:** Readers should be comfortable with high-school level basic algebra and geometry; calculus is not required. An embrace of intellectual challenge in studying math is also necessary.\n",
        "* **Attitude:** Patience, dedication, and an assertive attitude are needed to learn math as an adult, recognizing and challenging self-doubt.\n",
        "* **Coding:** The book primarily uses Python, currently the most widely used language in data science and machine learning. Chapter 16 offers a basic introduction to Python, and its relevance depends on the reader's coding experience. The Python code is designed to be simple and relevant for applications."
      ],
      "id": "zKisFZJ7Opz9"
    },
    {
      "cell_type": "markdown",
      "metadata": {
        "id": "3rGlWnUOOpz-"
      },
      "source": [
        "## Learning Approach: Intuition from Coding\n",
        "\n",
        "The book focuses on building intuition through explanations, visualizations, and code examples, rather than rigorous mathematical proofs. It introduces the concept of \"soft proofs,\" where code is used to explore numerical examples and gain intuition for mathematical principles, assuming that Python libraries correctly handle low-level calculations. While this intuition is not a substitute for rigorous proofs, it helps coders without advanced mathematics backgrounds understand concepts.\n",
        "\n",
        "### Example of a \"Soft Proof\" (Commutativity of Multiplication)\n",
        "\n",
        "This code generates two random numbers and tests the hypothesis that swapping the order of multiplication has no impact on the result. If you run this code multiple times and always get 0.0, then you have gained intuition for commutativity by seeing the same result in many different numerical examples."
      ],
      "id": "3rGlWnUOOpz-"
    },
    {
      "cell_type": "code",
      "execution_count": null,
      "metadata": {
        "id": "ZR2lf2a8Op0A",
        "outputId": "186d62ef-9503-4e91-8320-e8a3a8cd65cf",
        "colab": {
          "base_uri": "https://localhost:8080/"
        }
      },
      "outputs": [
        {
          "output_type": "stream",
          "name": "stdout",
          "text": [
            "Result of a*b - b*a: 0.0\n"
          ]
        }
      ],
      "source": [
        "import numpy as np\n",
        "\n",
        "a = np.random.randn()\n",
        "b = np.random.randn()\n",
        "\n",
        "result = a * b - b * a\n",
        "print(f\"Result of a*b - b*a: {result}\")\n",
        "\n",
        "# You will observe that 'result' is very close to 0.0, due to floating-point precision."
      ],
      "id": "ZR2lf2a8Op0A"
    },
    {
      "cell_type": "markdown",
      "metadata": {
        "id": "i8ChCcMpOp0B"
      },
      "source": [
        "## Code and Exercises\n",
        "\n",
        "Important code snippets are printed in the book, allowing readers to link concepts to code. However, the full code, including additional comments, graphics, and solutions to all coding exercises, is available for download from a GitHub repository (https://github.com/mikexcohen/LinAlg4DataScience). The code was developed using Jupyter notebook in Google's Colab environment, but other Python IDEs can be used. The book includes numerous code exercises, varying in difficulty, as a practical way to apply linear algebra. Solutions are provided, and readers are encouraged to attempt exercises before checking solutions, recognizing that there are many ways to solve problems."
      ],
      "id": "i8ChCcMpOp0B"
    },
    {
      "cell_type": "markdown",
      "metadata": {
        "id": "pEKFagNsOp0C"
      },
      "source": [
        "## Target Audience and Usage\n",
        "\n",
        "This book is suitable for self-learners, serving as a self-contained resource for those wanting to learn how to implement linear algebra in code, regardless of their prior university math studies. It can also be used as a primary textbook in data science courses focusing on the underlying math for machine learning and AI, or as a secondary textbook in math-focused linear algebra courses to supplement theoretical lectures with practical coding applications. Instructors may need to provide supplementary problems since all exercise solutions are available online."
      ],
      "id": "pEKFagNsOp0C"
    }
  ]
}